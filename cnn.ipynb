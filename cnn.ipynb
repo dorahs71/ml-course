{
  "nbformat": 4,
  "nbformat_minor": 0,
  "metadata": {
    "colab": {
      "provenance": [],
      "gpuType": "T4",
      "authorship_tag": "ABX9TyMq2FCx+vWgRHwcFKmrwS1g",
      "include_colab_link": true
    },
    "kernelspec": {
      "name": "python3",
      "display_name": "Python 3"
    },
    "language_info": {
      "name": "python"
    },
    "accelerator": "GPU"
  },
  "cells": [
    {
      "cell_type": "markdown",
      "metadata": {
        "id": "view-in-github",
        "colab_type": "text"
      },
      "source": [
        "<a href=\"https://colab.research.google.com/github/dorahs71/ml-course/blob/main/cnn.ipynb\" target=\"_parent\"><img src=\"https://colab.research.google.com/assets/colab-badge.svg\" alt=\"Open In Colab\"/></a>"
      ]
    },
    {
      "cell_type": "markdown",
      "source": [
        "Cifar10 dataset: https://www.cs.toronto.edu/~kriz/cifar.html\n"
      ],
      "metadata": {
        "id": "aGg1049MbkQV"
      }
    },
    {
      "cell_type": "code",
      "execution_count": 1,
      "metadata": {
        "colab": {
          "base_uri": "https://localhost:8080/"
        },
        "id": "_Ym_z1WSa2Af",
        "outputId": "28c0464a-25e0-4fdf-ff03-f763d7412576"
      },
      "outputs": [
        {
          "output_type": "stream",
          "name": "stdout",
          "text": [
            "Downloading data from https://www.cs.toronto.edu/~kriz/cifar-10-python.tar.gz\n",
            "170498071/170498071 [==============================] - 2s 0us/step\n"
          ]
        }
      ],
      "source": [
        "from tensorflow.keras.datasets import cifar10\n",
        "\n",
        "\n",
        "(x_train, y_train), (x_test, y_test) = cifar10.load_data()"
      ]
    },
    {
      "cell_type": "code",
      "source": [
        "print(x_train.shape) # 5000 筆，3 指得是深度，因為這邊用的是 RGB 所以是 3，如果是 CMYK 顏色系統，就是 4\n",
        "print(y_train.shape) # 5000 筆，但每個照片都只有一個類別\n",
        "print(x_test.shape)\n",
        "print(y_test.shape)"
      ],
      "metadata": {
        "colab": {
          "base_uri": "https://localhost:8080/"
        },
        "id": "5hwBjpfrbryF",
        "outputId": "9c01a3ba-a949-4d72-df1a-925231f0a3f8"
      },
      "execution_count": 3,
      "outputs": [
        {
          "output_type": "stream",
          "name": "stdout",
          "text": [
            "(50000, 32, 32, 3)\n",
            "(50000, 1)\n",
            "(10000, 32, 32, 3)\n",
            "(10000, 1)\n"
          ]
        }
      ]
    },
    {
      "cell_type": "code",
      "source": [
        "# 未來有可能一張圖不是只有一個類別，可能出現多個類別，但這邊的資料集比較簡單，所以可以省略 1\n",
        "\n",
        "y_train = y_train.reshape(50000)\n",
        "y_test = y_test.reshape(10000)\n",
        "\n",
        "y_train # 改為 50000 之後，和 (50000,1) 的資料維度就不一樣了，一個是單行 array，一個是二階矩陣"
      ],
      "metadata": {
        "colab": {
          "base_uri": "https://localhost:8080/"
        },
        "id": "cmGVmY9db3_X",
        "outputId": "6398b3f5-8d28-42e3-905b-6105e1707ba5"
      },
      "execution_count": 4,
      "outputs": [
        {
          "output_type": "execute_result",
          "data": {
            "text/plain": [
              "array([6, 9, 9, ..., 9, 1, 1], dtype=uint8)"
            ]
          },
          "metadata": {},
          "execution_count": 4
        }
      ]
    },
    {
      "cell_type": "code",
      "source": [
        "labels = [\n",
        "    'airplane',\n",
        "    'automobile',\n",
        "    'bird',\n",
        "    'cat',\n",
        "    'deer',\n",
        "    'dog',\n",
        "    'frog',\n",
        "    'horse',\n",
        "    'ship',\n",
        "    'truck'\n",
        "    ]"
      ],
      "metadata": {
        "id": "a3AXYt5Wctwe"
      },
      "execution_count": 5,
      "outputs": []
    },
    {
      "cell_type": "code",
      "source": [
        "import matplotlib.pyplot as plt\n",
        "idx = 10000\n",
        "print(y_train[idx])\n",
        "plt.imshow(x_train[idx])"
      ],
      "metadata": {
        "colab": {
          "base_uri": "https://localhost:8080/",
          "height": 465
        },
        "id": "zFTGZVaCc77R",
        "outputId": "acddcccf-78c5-4240-d874-254856a38ab8"
      },
      "execution_count": 7,
      "outputs": [
        {
          "output_type": "stream",
          "name": "stdout",
          "text": [
            "1\n"
          ]
        },
        {
          "output_type": "execute_result",
          "data": {
            "text/plain": [
              "<matplotlib.image.AxesImage at 0x79482b9ad6f0>"
            ]
          },
          "metadata": {},
          "execution_count": 7
        },
        {
          "output_type": "display_data",
          "data": {
            "text/plain": [
              "<Figure size 640x480 with 1 Axes>"
            ],
            "image/png": "[encoded data removed]"
          },
          "metadata": {}
        }
      ]
    },
    {
      "cell_type": "code",
      "source": [
        "from tensorflow.keras.models import Sequential\n",
        "from tensorflow.keras.layers import Conv2D, MaxPooling2D, Flatten, Dense\n",
        "\n",
        "# Conv2D : https://keras.io/api/layers/convolution_layers/convolution2d/\n",
        "\n",
        "layers=[\n",
        "    Conv2D(64,3,padding=\"same\", activation=\"relu\", input_shape=(32,32,3)),\n",
        "    MaxPooling2D(),\n",
        "    Conv2D(128,3,padding=\"same\", activation=\"relu\"),\n",
        "    MaxPooling2D(),\n",
        "    Conv2D(256,3,padding=\"same\", activation=\"relu\"),\n",
        "    MaxPooling2D(),\n",
        "    Conv2D(512,3,padding=\"same\", activation=\"relu\"),\n",
        "    MaxPooling2D(),\n",
        "    Flatten(),\n",
        "    Dense(10, activation=\"softmax\") #放少一點係數在[分類(MLP)]上\n",
        "]\n",
        "\n",
        "model = Sequential(layers)\n",
        "model.summary()\n"
      ],
      "metadata": {
        "colab": {
          "base_uri": "https://localhost:8080/"
        },
        "id": "d4XfSrHopCY_",
        "outputId": "07b37e53-ffaf-4f1e-9882-f5b0233189a6"
      },
      "execution_count": 9,
      "outputs": [
        {
          "output_type": "stream",
          "name": "stdout",
          "text": [
            "Model: \"sequential_1\"\n",
            "_________________________________________________________________\n",
            " Layer (type)                Output Shape              Param #   \n",
            "=================================================================\n",
            " conv2d_4 (Conv2D)           (None, 32, 32, 64)        1792      \n",
            "                                                                 \n",
            " max_pooling2d_4 (MaxPoolin  (None, 16, 16, 64)        0         \n",
            " g2D)                                                            \n",
            "                                                                 \n",
            " conv2d_5 (Conv2D)           (None, 16, 16, 128)       73856     \n",
            "                                                                 \n",
            " max_pooling2d_5 (MaxPoolin  (None, 8, 8, 128)         0         \n",
            " g2D)                                                            \n",
            "                                                                 \n",
            " conv2d_6 (Conv2D)           (None, 8, 8, 256)         295168    \n",
            "                                                                 \n",
            " max_pooling2d_6 (MaxPoolin  (None, 4, 4, 256)         0         \n",
            " g2D)                                                            \n",
            "                                                                 \n",
            " conv2d_7 (Conv2D)           (None, 4, 4, 512)         1180160   \n",
            "                                                                 \n",
            " max_pooling2d_7 (MaxPoolin  (None, 2, 2, 512)         0         \n",
            " g2D)                                                            \n",
            "                                                                 \n",
            " flatten (Flatten)           (None, 2048)              0         \n",
            "                                                                 \n",
            " dense (Dense)               (None, 10)                20490     \n",
            "                                                                 \n",
            "=================================================================\n",
            "Total params: 1571466 (5.99 MB)\n",
            "Trainable params: 1571466 (5.99 MB)\n",
            "Non-trainable params: 0 (0.00 Byte)\n",
            "_________________________________________________________________\n"
          ]
        }
      ]
    },
    {
      "cell_type": "markdown",
      "source": [
        "\n",
        "\n",
        "## 將 Flatten 層改為 GlobalAveragePooling 層在神經網絡中特別是卷積神經網絡（CNN）中有以下幾個好處：\n",
        "\n",
        "1. 減少過擬合\n",
        "GlobalAveragePooling 通過計算每個特徵圖的平均值來壓縮特徵圖，這樣可以減少過擬合的風險，因為它不像 Flatten 那樣保留了每個像素的值，而是進行了降維。\n",
        "\n",
        "2. 減少參數\n",
        "GlobalAveragePooling 層不會引入新的參數，因為它只是對每個特徵圖進行全局平均池化，這樣可以使模型更輕量化，減少計算資源的需求。\n",
        "\n",
        "3. 更強的平移不變性\n",
        "GlobalAveragePooling 層對輸入圖像的平移具有更強的魯棒性，因為它關注的是整個特徵圖的平均值而不是具體的像素位置。\n",
        "\n",
        "4. 直接連接分類層\n",
        "在分類任務中，GlobalAveragePooling 可以直接將特徵圖壓縮成與類別數目相同的節點數，這樣可以直接連接到 softmax 層，簡化了網絡結構。\n",
        "\n",
        "5. 減少維度災難\n",
        "當使用 Flatten 層時，特徵圖的每個像素都會展平為一個長向量，這樣可能會導致高維數據，從而引起維度災難。GlobalAveragePooling 通過壓縮特徵圖來避免這個問題。"
      ],
      "metadata": {
        "id": "WywRVvpgs_Db"
      }
    },
    {
      "cell_type": "code",
      "source": [
        "# 改良版-剔除掉位置資訊\n",
        "from tensorflow.keras.models import Sequential\n",
        "from tensorflow.keras.layers import Conv2D, MaxPooling2D, Flatten, Dense, GlobalAveragePooling2D\n",
        "\n",
        "# Conv2D : https://keras.io/api/layers/convolution_layers/convolution2d/\n",
        "\n",
        "layers=[\n",
        "    Conv2D(64,3,padding=\"same\", activation=\"relu\", input_shape=(32,32,3)),\n",
        "    MaxPooling2D(),\n",
        "    Conv2D(128,3,padding=\"same\", activation=\"relu\"),\n",
        "    MaxPooling2D(),\n",
        "    Conv2D(256,3,padding=\"same\", activation=\"relu\"),\n",
        "    MaxPooling2D(),\n",
        "    Conv2D(512,3,padding=\"same\", activation=\"relu\"),\n",
        "    MaxPooling2D(),\n",
        "    GlobalAveragePooling2D(), # 將原本 Flatten 改為 GlobalAveragingPooling\n",
        "    Dense(10, activation=\"softmax\") #放少一點係數在[分類(MLP)]上\n",
        "]\n",
        "\n",
        "model = Sequential(layers)\n",
        "model.summary()"
      ],
      "metadata": {
        "colab": {
          "base_uri": "https://localhost:8080/"
        },
        "id": "Xm6cMC7bsIme",
        "outputId": "f8724a24-54dd-47d9-c4aa-9d6c2eb3c591"
      },
      "execution_count": 10,
      "outputs": [
        {
          "output_type": "stream",
          "name": "stdout",
          "text": [
            "Model: \"sequential_2\"\n",
            "_________________________________________________________________\n",
            " Layer (type)                Output Shape              Param #   \n",
            "=================================================================\n",
            " conv2d_8 (Conv2D)           (None, 32, 32, 64)        1792      \n",
            "                                                                 \n",
            " max_pooling2d_8 (MaxPoolin  (None, 16, 16, 64)        0         \n",
            " g2D)                                                            \n",
            "                                                                 \n",
            " conv2d_9 (Conv2D)           (None, 16, 16, 128)       73856     \n",
            "                                                                 \n",
            " max_pooling2d_9 (MaxPoolin  (None, 8, 8, 128)         0         \n",
            " g2D)                                                            \n",
            "                                                                 \n",
            " conv2d_10 (Conv2D)          (None, 8, 8, 256)         295168    \n",
            "                                                                 \n",
            " max_pooling2d_10 (MaxPooli  (None, 4, 4, 256)         0         \n",
            " ng2D)                                                           \n",
            "                                                                 \n",
            " conv2d_11 (Conv2D)          (None, 4, 4, 512)         1180160   \n",
            "                                                                 \n",
            " max_pooling2d_11 (MaxPooli  (None, 2, 2, 512)         0         \n",
            " ng2D)                                                           \n",
            "                                                                 \n",
            " global_average_pooling2d (  (None, 512)               0         \n",
            " GlobalAveragePooling2D)                                         \n",
            "                                                                 \n",
            " dense_1 (Dense)             (None, 10)                5130      \n",
            "                                                                 \n",
            "=================================================================\n",
            "Total params: 1556106 (5.94 MB)\n",
            "Trainable params: 1556106 (5.94 MB)\n",
            "Non-trainable params: 0 (0.00 Byte)\n",
            "_________________________________________________________________\n"
          ]
        }
      ]
    },
    {
      "cell_type": "code",
      "source": [],
      "metadata": {
        "id": "BvYt24T4tEWN"
      },
      "execution_count": null,
      "outputs": []
    }
  ]
}